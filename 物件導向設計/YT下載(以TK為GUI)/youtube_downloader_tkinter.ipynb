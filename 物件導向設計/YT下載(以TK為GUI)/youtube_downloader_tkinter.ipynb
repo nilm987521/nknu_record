{
 "metadata": {
  "language_info": {
   "codemirror_mode": {
    "name": "ipython",
    "version": 3
   },
   "file_extension": ".py",
   "mimetype": "text/x-python",
   "name": "python",
   "nbconvert_exporter": "python",
   "pygments_lexer": "ipython3",
   "version": "3.8.5-final"
  },
  "orig_nbformat": 2,
  "kernelspec": {
   "name": "python3",
   "display_name": "Python 3.8.5 64-bit ('yt_downloader_tk': conda)",
   "metadata": {
    "interpreter": {
     "hash": "1c2f49f1f48f9982113117f7a812e9d2b6ebaffffc5118f30805a273fcf09ec5"
    }
   }
  }
 },
 "nbformat": 4,
 "nbformat_minor": 2,
 "cells": [
  {
   "cell_type": "code",
   "execution_count": 17,
   "metadata": {},
   "outputs": [],
   "source": [
    "# 載入所需模組\n",
    "from pytube import YouTube\n",
    "from tkinter import messagebox\n",
    "from pytube import exceptions as ytexceptions\n",
    "import tkinter as tk\n",
    "import os"
   ]
  },
  {
   "cell_type": "code",
   "execution_count": 18,
   "metadata": {},
   "outputs": [],
   "source": [
    "def onClicked():\n",
    "    try:\n",
    "        yt = YouTube(str(url.get()))\n",
    "\n",
    "        sel = radio_var.get()\n",
    "\n",
    "        if sel == 0 : # full\n",
    "            yt.streams.filter(adaptive=True)\n",
    "        elif sel == 1 : #only_audio\n",
    "            yt.streams.filter(only_audio=True)\n",
    "        elif sel == 2 : #only_video\n",
    "            yt.streams.filter(subtype='mp4', progressive=True)\n",
    "\n",
    "    except ytexceptions.RegexMatchError :\n",
    "        messagebox.showerror(url.get(),'輸入的網址有誤，請重新輸入')\n",
    "    "
   ]
  },
  {
   "source": [
    "# 設定GUI\n",
    "window = tk.Tk()\n",
    "window.title('Youtube Downloader')\n",
    "window.geometry('500x50')\n",
    "window.configure(background='lightgray')\n",
    "window.resizable(width=0, height=0)"
   ],
   "cell_type": "code",
   "metadata": {},
   "execution_count": null,
   "outputs": []
  },
  {
   "cell_type": "code",
   "execution_count": 20,
   "metadata": {},
   "outputs": [],
   "source": [
    "text = tk.Label(window,\n",
    "                text='輸入Youtube網址：',\n",
    "                background='lightgray')\n",
    "text.pack(anchor=tk.NW, \n",
    "                side=tk.LEFT)"
   ]
  },
  {
   "cell_type": "code",
   "execution_count": 21,
   "metadata": {},
   "outputs": [],
   "source": [
    "# 建立GUI元件-網址列\n",
    "url = tk.Entry(window,\n",
    "               width = 50)     # 輸入欄位所在視窗\n",
    "url.pack(anchor=tk.NW,side=tk.LEFT)"
   ]
  },
  {
   "cell_type": "code",
   "execution_count": 22,
   "metadata": {},
   "outputs": [],
   "source": [
    "# 建立GUI元件-按鈕\n",
    "button = tk.Button(window,          # 按鈕所在視窗\n",
    "                   text = '下載',  # 顯示文字\n",
    "                   command = onClicked,\n",
    "                   background='lightgray') # 按下按鈕所執行的函數\n",
    "button.pack(anchor=tk.NW,side=tk.LEFT)"
   ]
  },
  {
   "cell_type": "code",
   "execution_count": 23,
   "metadata": {},
   "outputs": [],
   "source": [
    "radio_var = tk.IntVar()\n",
    "full = tk.Radiobutton(window, text='完整影片', value=0,background='lightgray',variable = radio_var)\n",
    "full.place(x=0,y=25)\n",
    "only_audio = tk.Radiobutton(window, text='只有音樂', value=1,background='lightgray',variable = radio_var)\n",
    "only_audio.place(x=80,y=25)\n",
    "only_video = tk.Radiobutton(window, text='只有影像', value=2,background='lightgray',variable = radio_var)\n",
    "only_video.place(x=160,y=25)\n",
    "full.select()"
   ]
  },
  {
   "cell_type": "code",
   "execution_count": 24,
   "metadata": {},
   "outputs": [],
   "source": [
    "window.mainloop()"
   ]
  }
 ]
}